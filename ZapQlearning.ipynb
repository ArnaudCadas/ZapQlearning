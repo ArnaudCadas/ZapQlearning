{
 "cells": [
  {
   "cell_type": "code",
   "execution_count": 23,
   "metadata": {
    "collapsed": true
   },
   "outputs": [],
   "source": [
    "import numpy as np\n",
    "import pandas as pd\n",
    "import matplotlib.pyplot as plt\n",
    "\n",
    "import types\n",
    "import sys, time, inspect\n",
    "\n",
    "%matplotlib inline"
   ]
  },
  {
   "cell_type": "code",
   "execution_count": 24,
   "metadata": {
    "collapsed": false
   },
   "outputs": [],
   "source": [
    "# We define an iterator which gives the time taken for each step and which estimates the total time needed for the whole loop\n",
    "def timeprint(Nb_iter=None,iterator=None):\n",
    "    assert Nb_iter is not None or iterator is not None\n",
    "    if Nb_iter is not None:\n",
    "        iterator = np.arange(Nb_iter)\n",
    "        times = []\n",
    "        idx = 0\n",
    "        for thing in iterator:\n",
    "            prev_time = time.time()\n",
    "            yield thing\n",
    "            times.append(time.time() - prev_time)\n",
    "            sys.stdout.write('Step {}/{} done in {:.4f}sec, ETA: {:.4f}sec   \\r'.format(idx+1,Nb_iter,times[idx],np.mean(times)*(Nb_iter-idx+1)))\n",
    "            idx += 1\n",
    "            sys.stdout.flush()\n",
    "            \n",
    "    else:\n",
    "        times = []\n",
    "        idx = 0\n",
    "        for thing in iterator:\n",
    "            prev_time = time.time()\n",
    "            yield thing\n",
    "            times.append(time.time() - prev_time)\n",
    "            sys.stdout.write('Step {} done in {:.4f}sec   \\r'.format(idx,times[idx]))\n",
    "            idx += 1\n",
    "            sys.stdout.flush()\n",
    "    print('\\n{:.4f}sec avg, {:.4f}sec total\\n'.format(np.mean(times),np.sum(times)))"
   ]
  },
  {
   "cell_type": "markdown",
   "metadata": {},
   "source": [
    "### Basis functions"
   ]
  },
  {
   "cell_type": "code",
   "execution_count": 2,
   "metadata": {
    "collapsed": true
   },
   "outputs": [],
   "source": [
    "# We create a class for each basis. For each class we define all the functions that compose the basis\n",
    "\n",
    "# Basis of functions given in Benjamin Van Roy paper\n",
    "class Basis_Functions_BVR():\n",
    "    def phi_1(x):\n",
    "        return 1.\n",
    "\n",
    "    def phi_2(x):\n",
    "        return x[99]\n",
    "\n",
    "    def phi_3(x):\n",
    "        return np.min(x)-1.\n",
    "\n",
    "    def phi_4(x):\n",
    "        return np.max(x)-1.\n",
    "\n",
    "    def phi_5(x):\n",
    "        return (np.argmin(x)/50.) - 1.\n",
    "\n",
    "    def phi_6(x):\n",
    "        return (np.argmax(x)/50.) - 1.\n",
    "\n",
    "    def phi_7(x):\n",
    "        return np.sum((x-1.)/np.sqrt(2.))/100.\n",
    "\n",
    "    def phi_8(x):\n",
    "        j = np.arange(1,101)/50. - 1.\n",
    "        return np.sum(x*np.sqrt(1.5)*j)/100.\n",
    "\n",
    "    def phi_9(x):\n",
    "        j = np.arange(1,101)/50. - 1.\n",
    "        return np.sum(x*np.sqrt(2.5)*(1.5*j**2 - 0.5))/100.\n",
    "\n",
    "    def phi_10(x):\n",
    "        j = np.arange(1,101)/50. - 1.\n",
    "        return np.sum(x*np.sqrt(3.5)*(2.5*j**3 - 1.5*j))/100.\n",
    "\n",
    "    #def phi_11(x):\n",
    "    #    return phi_2(x)*phi_3(x)\n",
    "\n",
    "    #def phi_12(x):\n",
    "    #    return phi_2(x)*phi_4(x)\n",
    "\n",
    "    #def phi_13(x):\n",
    "    #    return phi_2(x)*phi_7(x)\n",
    "\n",
    "    #def phi_14(x):\n",
    "    #    return phi_2(x)*phi_8(x)\n",
    "\n",
    "    #def phi_15(x):\n",
    "    #    return phi_2(x)*phi_9(x)\n",
    "\n",
    "    #def phi_16(x):\n",
    "    #    return phi_2(x)*phi_10(x)\n",
    "\n",
    "class Basis_Functions_Fourier():\n",
    "    def phi_1(x):\n",
    "        return 1.\n",
    "\n",
    "    def phi_2(x):\n",
    "        return np.sqrt(2)*np.cos(2*np.pi*x[99])\n",
    "\n",
    "    def phi_3(x):\n",
    "        return np.sqrt(2)*np.sin(2*np.pi*x[99])\n",
    "\n",
    "    def phi_4(x):\n",
    "        return np.sqrt(2)*np.cos(2*np.pi*2*x[99])\n",
    "\n",
    "    def phi_5(x):\n",
    "        return np.sqrt(2)*np.sin(2*np.pi*2*x[99])\n",
    "\n",
    "    def phi_6(x):\n",
    "        return np.sqrt(2)*np.cos(2*np.pi*3*x[99])\n",
    "\n",
    "    def phi_7(x):\n",
    "        return np.sqrt(2)*np.sin(2*np.pi*3*x[99])\n",
    "\n",
    "    def phi_8(x):\n",
    "        return np.sqrt(2)*np.cos(2*np.pi*4*x[99])\n",
    "\n",
    "    def phi_9(x):\n",
    "        return np.sqrt(2)*np.sin(2*np.pi*4*x[99])\n",
    "    \n",
    "    def phi_10(x):\n",
    "        return np.sqrt(2)*np.cos(2*np.pi*5*x[99])\n",
    "    \n",
    "# We store all the functions of each basis in a dictionnary     \n",
    "basis_functions_dict = {}\n",
    "for name, obj in inspect.getmembers(sys.modules[__name__]):\n",
    "    if inspect.isclass(obj) and 'Basis_Functions' in name:\n",
    "        basis_functions_dict[name] = [f for key, f in obj.__dict__.items() if type(f) == types.FunctionType]\n",
    "        \n",
    "#print(basis_functions_dict)"
   ]
  },
  {
   "cell_type": "markdown",
   "metadata": {},
   "source": [
    "### Sampling the state process"
   ]
  },
  {
   "cell_type": "code",
   "execution_count": 3,
   "metadata": {
    "collapsed": true
   },
   "outputs": [],
   "source": [
    "# We define a class that samples the state process\n",
    "class state_process:\n",
    "    \n",
    "    def __init__(self,rho=0.0004,sigma=0.02,initialization='standard'):\n",
    "        self.rho = rho\n",
    "        self.sigma = sigma\n",
    "        \n",
    "        self.N_matrix = np.triu(np.ones((100,100)))\n",
    "        KK = np.arange(100,0,-1)\n",
    "        self.Expterm1 = (rho - 0.5*sigma**2)*KK\n",
    "        \n",
    "        # We initialize with \\tilde{p}_0 = 1\n",
    "        if initialization == 'standard':\n",
    "            self.Z_vec = np.random.normal(0,1,100).reshape(100,1)\n",
    "            N_vec = np.dot(self.N_matrix,self.Z_vec)\n",
    "            Expterm2 = sigma*N_vec.T\n",
    "\n",
    "            self.X = np.fliplr(np.exp(self.Expterm1 + Expterm2))\n",
    "            \n",
    "        # We intialize with X_0 = (1, ... ,1)\n",
    "        elif initialization == 'ones':\n",
    "            self.Z_vec = (-np.linalg.solve(self.N_matrix,self.Expterm1.T)/self.sigma).reshape(100,1)\n",
    "            N_vec = np.dot(self.N_matrix,self.Z_vec)\n",
    "            Expterm2 = sigma*N_vec.T\n",
    "\n",
    "            self.X = np.fliplr(np.exp(self.Expterm1 + Expterm2))\n",
    "            \n",
    "    def sample(self):\n",
    "        self.Z_vec[1:,:] = self.Z_vec[:99,:]\n",
    "        self.Z_vec[0,:] = np.random.normal(0,1)\n",
    "        N_vec = np.dot(self.N_matrix,self.Z_vec)\n",
    "        Expterm2 = self.sigma*N_vec.T\n",
    "        \n",
    "        self.X = np.fliplr(np.exp(self.Expterm1 + Expterm2))\n",
    "        return self.X   "
   ]
  },
  {
   "cell_type": "code",
   "execution_count": 30,
   "metadata": {
    "collapsed": true
   },
   "outputs": [],
   "source": [
    "# This function samples states (for a given theta and basis functions) up until the optimal stopping time \n",
    "def sample_stopping_state(theta,basis='BVR'):\n",
    "    # We select the basis functions\n",
    "    phi = basis_functions_dict['Basis_Functions_'+basis]\n",
    "    # We initialize time, state process, psi and Q\n",
    "    i = 0\n",
    "    SP = state_process(initialization='ones')\n",
    "    Xt = SP.X\n",
    "    \n",
    "    psi_X = np.array([phi_i(Xt[0,:]) for phi_i in phi]).reshape(10,1)\n",
    "    Q_theta = np.dot(theta.T,psi_X)\n",
    "\n",
    "    while Xt[0,99] < Q_theta:\n",
    "        Xt = SP.sample()\n",
    "        \n",
    "        psi_X = np.array([phi_i(Xt[0,:]) for phi_i in phi]).reshape(10,1)\n",
    "        Q_theta = np.dot(theta.T,psi_X)\n",
    "        \n",
    "        i = i + 1\n",
    "     \n",
    "    # We return the optimal stopping time and the value of the state process at that time\n",
    "    return i, Xt.T"
   ]
  },
  {
   "cell_type": "markdown",
   "metadata": {},
   "source": [
    "### The algorithm"
   ]
  },
  {
   "cell_type": "code",
   "execution_count": 15,
   "metadata": {
    "collapsed": true
   },
   "outputs": [],
   "source": [
    "# We define a class that computes, using the Zap Qlearning algorithm, a theta given a number of steps\n",
    "class Zap_Qlearning:\n",
    "    \n",
    "    def __init__(self,nb_steps,beta=np.exp(-0.0004),basis='BVR'):\n",
    "        self.beta = beta\n",
    "        self.nb_steps = nb_steps\n",
    "        # We select the basis functions\n",
    "        self.phi = basis_functions_dict['Basis_Functions_'+basis]\n",
    "        # Initialization of the states\n",
    "        self.SP = state_process()\n",
    "        self.Xt = np.zeros((self.nb_steps,100))\n",
    "        self.Xt[[0],:] = self.SP.X\n",
    "        # Initialization of theta and A_hat\n",
    "        self.n = 0\n",
    "        self.theta = np.zeros((10,self.nb_steps),dtype=np.double)\n",
    "        self.theta[:,[self.n]] = np.random.normal(0.,1.,10).reshape(10,1)\n",
    "        self.A_hat = 100.*np.eye(10,dtype=np.double)\n",
    "        self.A_hat_BVR = 100.*np.eye(10,dtype=np.double)\n",
    "        # Intialization of psi\n",
    "        self.psi_next = np.array([phi_i(self.Xt[self.n,:]) for phi_i in self.phi]).reshape(10,1)\n",
    "           \n",
    "    def next_step(self):\n",
    "        # We sample a new state\n",
    "        self.Xt[self.n+1,:] = self.SP.sample()\n",
    "        # We update the reward and the two time scales\n",
    "        reward = self.Xt[self.n+1,99]\n",
    "        alpha = 1./(self.n + 1.)\n",
    "        gamma = np.power(alpha,0.85)\n",
    "        # We update psi. Current is for psi(X_n) and next is for psi(X_{n+1})\n",
    "        psi_current = self.psi_next \n",
    "        self.psi_next = np.array([phi_i(self.Xt[self.n+1,:]) for phi_i in self.phi]).reshape(10,1)\n",
    "        # We compute Q^{theta_n}(X_n) (current) and Q^{theta_n}(X_{n+1}) (next)\n",
    "        Q_current = np.dot(self.theta[:,[self.n]].T,psi_current)\n",
    "        Q_next = np.dot(self.theta[:,[self.n]].T,self.psi_next)\n",
    "        \n",
    "        # We compute varphi\n",
    "        #varphi = self.beta * self.psi_next - psi_current if Q_next >= reward else -psi_current\n",
    "        varphi = psi_current - self.beta * self.psi_next if Q_next >= reward else psi_current\n",
    "        \n",
    "        # We compute A\n",
    "        self.A = np.dot(psi_current,varphi.T)\n",
    "        \n",
    "        # We update the estimator A_hat for the SNR and the BVR algorithms\n",
    "        self.A_hat = self.A_hat + gamma * (self.A - self.A_hat)\n",
    "        self.A_hat_BVR = self.A_hat_BVR + alpha * (np.dot(psi_current,psi_current.T) - self.A_hat_BVR)\n",
    "        \n",
    "        # We try to invert the estimator A_hat for the SNR. If it fails we invert the estimator A_hat for the BVR\n",
    "        try:\n",
    "            G = np.linalg.inv(self.A_hat)\n",
    "        except np.linalg.linalg.LinAlgError as err:\n",
    "            G = 200.*np.linalg.inv(self.A_hat_BVR)\n",
    "            \n",
    "        # We update theta\n",
    "        self.theta[:,[self.n+1]] = self.theta[:,[self.n]] - alpha * np.dot(G,psi_current)*(self.beta*np.maximum(reward,Q_next)-Q_current)\n",
    "        \n",
    "        self.n = self.n + 1\n",
    "        \n",
    "    def fit(self):\n",
    "        for i in np.arange(self.nb_steps-1):\n",
    "            self.next_step()"
   ]
  },
  {
   "cell_type": "markdown",
   "metadata": {},
   "source": [
    "### Discounted rewards"
   ]
  },
  {
   "cell_type": "code",
   "execution_count": 31,
   "metadata": {
    "collapsed": false
   },
   "outputs": [
    {
     "name": "stdout",
     "output_type": "stream",
     "text": [
      "Step 4/1000 done in 55.2147sec, ETA: 48079.5755sec   \r"
     ]
    },
    {
     "ename": "LinAlgError",
     "evalue": "Singular matrix",
     "output_type": "error",
     "traceback": [
      "\u001b[0;31m---------------------------------------------------------------------------\u001b[0m",
      "\u001b[0;31mLinAlgError\u001b[0m                               Traceback (most recent call last)",
      "\u001b[0;32m<ipython-input-15-5a0df677f71e>\u001b[0m in \u001b[0;36mnext_step\u001b[0;34m(self)\u001b[0m\n\u001b[1;32m     48\u001b[0m         \u001b[0;32mtry\u001b[0m\u001b[0;34m:\u001b[0m\u001b[0;34m\u001b[0m\u001b[0m\n\u001b[0;32m---> 49\u001b[0;31m             \u001b[0mG\u001b[0m \u001b[0;34m=\u001b[0m \u001b[0mnp\u001b[0m\u001b[0;34m.\u001b[0m\u001b[0mlinalg\u001b[0m\u001b[0;34m.\u001b[0m\u001b[0minv\u001b[0m\u001b[0;34m(\u001b[0m\u001b[0mself\u001b[0m\u001b[0;34m.\u001b[0m\u001b[0mA_hat\u001b[0m\u001b[0;34m)\u001b[0m\u001b[0;34m\u001b[0m\u001b[0m\n\u001b[0m\u001b[1;32m     50\u001b[0m         \u001b[0;32mexcept\u001b[0m \u001b[0mnp\u001b[0m\u001b[0;34m.\u001b[0m\u001b[0mlinalg\u001b[0m\u001b[0;34m.\u001b[0m\u001b[0mlinalg\u001b[0m\u001b[0;34m.\u001b[0m\u001b[0mLinAlgError\u001b[0m \u001b[0;32mas\u001b[0m \u001b[0merr\u001b[0m\u001b[0;34m:\u001b[0m\u001b[0;34m\u001b[0m\u001b[0m\n",
      "\u001b[0;32m~/anaconda3/envs/reinforcement_learning/lib/python3.6/site-packages/numpy/linalg/linalg.py\u001b[0m in \u001b[0;36minv\u001b[0;34m(a)\u001b[0m\n\u001b[1;32m    512\u001b[0m     \u001b[0mextobj\u001b[0m \u001b[0;34m=\u001b[0m \u001b[0mget_linalg_error_extobj\u001b[0m\u001b[0;34m(\u001b[0m\u001b[0m_raise_linalgerror_singular\u001b[0m\u001b[0;34m)\u001b[0m\u001b[0;34m\u001b[0m\u001b[0m\n\u001b[0;32m--> 513\u001b[0;31m     \u001b[0mainv\u001b[0m \u001b[0;34m=\u001b[0m \u001b[0m_umath_linalg\u001b[0m\u001b[0;34m.\u001b[0m\u001b[0minv\u001b[0m\u001b[0;34m(\u001b[0m\u001b[0ma\u001b[0m\u001b[0;34m,\u001b[0m \u001b[0msignature\u001b[0m\u001b[0;34m=\u001b[0m\u001b[0msignature\u001b[0m\u001b[0;34m,\u001b[0m \u001b[0mextobj\u001b[0m\u001b[0;34m=\u001b[0m\u001b[0mextobj\u001b[0m\u001b[0;34m)\u001b[0m\u001b[0;34m\u001b[0m\u001b[0m\n\u001b[0m\u001b[1;32m    514\u001b[0m     \u001b[0;32mreturn\u001b[0m \u001b[0mwrap\u001b[0m\u001b[0;34m(\u001b[0m\u001b[0mainv\u001b[0m\u001b[0;34m.\u001b[0m\u001b[0mastype\u001b[0m\u001b[0;34m(\u001b[0m\u001b[0mresult_t\u001b[0m\u001b[0;34m,\u001b[0m \u001b[0mcopy\u001b[0m\u001b[0;34m=\u001b[0m\u001b[0;32mFalse\u001b[0m\u001b[0;34m)\u001b[0m\u001b[0;34m)\u001b[0m\u001b[0;34m\u001b[0m\u001b[0m\n",
      "\u001b[0;32m~/anaconda3/envs/reinforcement_learning/lib/python3.6/site-packages/numpy/linalg/linalg.py\u001b[0m in \u001b[0;36m_raise_linalgerror_singular\u001b[0;34m(err, flag)\u001b[0m\n\u001b[1;32m     89\u001b[0m \u001b[0;32mdef\u001b[0m \u001b[0m_raise_linalgerror_singular\u001b[0m\u001b[0;34m(\u001b[0m\u001b[0merr\u001b[0m\u001b[0;34m,\u001b[0m \u001b[0mflag\u001b[0m\u001b[0;34m)\u001b[0m\u001b[0;34m:\u001b[0m\u001b[0;34m\u001b[0m\u001b[0m\n\u001b[0;32m---> 90\u001b[0;31m     \u001b[0;32mraise\u001b[0m \u001b[0mLinAlgError\u001b[0m\u001b[0;34m(\u001b[0m\u001b[0;34m\"Singular matrix\"\u001b[0m\u001b[0;34m)\u001b[0m\u001b[0;34m\u001b[0m\u001b[0m\n\u001b[0m\u001b[1;32m     91\u001b[0m \u001b[0;34m\u001b[0m\u001b[0m\n",
      "\u001b[0;31mLinAlgError\u001b[0m: Singular matrix",
      "\nDuring handling of the above exception, another exception occurred:\n",
      "\u001b[0;31mLinAlgError\u001b[0m                               Traceback (most recent call last)",
      "\u001b[0;32m<ipython-input-31-12e0948f2ecf>\u001b[0m in \u001b[0;36m<module>\u001b[0;34m()\u001b[0m\n\u001b[1;32m      9\u001b[0m         \u001b[0;31m#print('*')\u001b[0m\u001b[0;34m\u001b[0m\u001b[0;34m\u001b[0m\u001b[0m\n\u001b[1;32m     10\u001b[0m     \u001b[0malgo\u001b[0m \u001b[0;34m=\u001b[0m \u001b[0mZap_Qlearning\u001b[0m\u001b[0;34m(\u001b[0m\u001b[0mn\u001b[0m\u001b[0;34m)\u001b[0m\u001b[0;34m\u001b[0m\u001b[0m\n\u001b[0;32m---> 11\u001b[0;31m     \u001b[0malgo\u001b[0m\u001b[0;34m.\u001b[0m\u001b[0mfit\u001b[0m\u001b[0;34m(\u001b[0m\u001b[0;34m)\u001b[0m\u001b[0;34m\u001b[0m\u001b[0m\n\u001b[0m\u001b[1;32m     12\u001b[0m     \u001b[0;32mfor\u001b[0m \u001b[0m_\u001b[0m \u001b[0;32min\u001b[0m \u001b[0mnp\u001b[0m\u001b[0;34m.\u001b[0m\u001b[0marange\u001b[0m\u001b[0;34m(\u001b[0m\u001b[0mK\u001b[0m\u001b[0;34m)\u001b[0m\u001b[0;34m:\u001b[0m\u001b[0;34m\u001b[0m\u001b[0m\n\u001b[1;32m     13\u001b[0m         \u001b[0mtau\u001b[0m\u001b[0;34m,\u001b[0m \u001b[0mX_tau\u001b[0m \u001b[0;34m=\u001b[0m \u001b[0msample_stopping_state\u001b[0m\u001b[0;34m(\u001b[0m\u001b[0malgo\u001b[0m\u001b[0;34m.\u001b[0m\u001b[0mtheta\u001b[0m\u001b[0;34m[\u001b[0m\u001b[0;34m:\u001b[0m\u001b[0;34m,\u001b[0m\u001b[0mn\u001b[0m\u001b[0;34m-\u001b[0m\u001b[0;36m1\u001b[0m\u001b[0;34m]\u001b[0m\u001b[0;34m)\u001b[0m\u001b[0;34m\u001b[0m\u001b[0m\n",
      "\u001b[0;32m<ipython-input-15-5a0df677f71e>\u001b[0m in \u001b[0;36mfit\u001b[0;34m(self)\u001b[0m\n\u001b[1;32m     58\u001b[0m     \u001b[0;32mdef\u001b[0m \u001b[0mfit\u001b[0m\u001b[0;34m(\u001b[0m\u001b[0mself\u001b[0m\u001b[0;34m)\u001b[0m\u001b[0;34m:\u001b[0m\u001b[0;34m\u001b[0m\u001b[0m\n\u001b[1;32m     59\u001b[0m         \u001b[0;32mfor\u001b[0m \u001b[0mi\u001b[0m \u001b[0;32min\u001b[0m \u001b[0mnp\u001b[0m\u001b[0;34m.\u001b[0m\u001b[0marange\u001b[0m\u001b[0;34m(\u001b[0m\u001b[0mself\u001b[0m\u001b[0;34m.\u001b[0m\u001b[0mnb_steps\u001b[0m\u001b[0;34m-\u001b[0m\u001b[0;36m1\u001b[0m\u001b[0;34m)\u001b[0m\u001b[0;34m:\u001b[0m\u001b[0;34m\u001b[0m\u001b[0m\n\u001b[0;32m---> 60\u001b[0;31m             \u001b[0mself\u001b[0m\u001b[0;34m.\u001b[0m\u001b[0mnext_step\u001b[0m\u001b[0;34m(\u001b[0m\u001b[0;34m)\u001b[0m\u001b[0;34m\u001b[0m\u001b[0m\n\u001b[0m",
      "\u001b[0;32m<ipython-input-15-5a0df677f71e>\u001b[0m in \u001b[0;36mnext_step\u001b[0;34m(self)\u001b[0m\n\u001b[1;32m     49\u001b[0m             \u001b[0mG\u001b[0m \u001b[0;34m=\u001b[0m \u001b[0mnp\u001b[0m\u001b[0;34m.\u001b[0m\u001b[0mlinalg\u001b[0m\u001b[0;34m.\u001b[0m\u001b[0minv\u001b[0m\u001b[0;34m(\u001b[0m\u001b[0mself\u001b[0m\u001b[0;34m.\u001b[0m\u001b[0mA_hat\u001b[0m\u001b[0;34m)\u001b[0m\u001b[0;34m\u001b[0m\u001b[0m\n\u001b[1;32m     50\u001b[0m         \u001b[0;32mexcept\u001b[0m \u001b[0mnp\u001b[0m\u001b[0;34m.\u001b[0m\u001b[0mlinalg\u001b[0m\u001b[0;34m.\u001b[0m\u001b[0mlinalg\u001b[0m\u001b[0;34m.\u001b[0m\u001b[0mLinAlgError\u001b[0m \u001b[0;32mas\u001b[0m \u001b[0merr\u001b[0m\u001b[0;34m:\u001b[0m\u001b[0;34m\u001b[0m\u001b[0m\n\u001b[0;32m---> 51\u001b[0;31m             \u001b[0mG\u001b[0m \u001b[0;34m=\u001b[0m \u001b[0;36m200.\u001b[0m\u001b[0;34m*\u001b[0m\u001b[0mnp\u001b[0m\u001b[0;34m.\u001b[0m\u001b[0mlinalg\u001b[0m\u001b[0;34m.\u001b[0m\u001b[0minv\u001b[0m\u001b[0;34m(\u001b[0m\u001b[0mself\u001b[0m\u001b[0;34m.\u001b[0m\u001b[0mA_hat_BVR\u001b[0m\u001b[0;34m)\u001b[0m\u001b[0;34m\u001b[0m\u001b[0m\n\u001b[0m\u001b[1;32m     52\u001b[0m \u001b[0;34m\u001b[0m\u001b[0m\n\u001b[1;32m     53\u001b[0m         \u001b[0;31m# We update theta\u001b[0m\u001b[0;34m\u001b[0m\u001b[0;34m\u001b[0m\u001b[0m\n",
      "\u001b[0;32m~/anaconda3/envs/reinforcement_learning/lib/python3.6/site-packages/numpy/linalg/linalg.py\u001b[0m in \u001b[0;36minv\u001b[0;34m(a)\u001b[0m\n\u001b[1;32m    511\u001b[0m     \u001b[0msignature\u001b[0m \u001b[0;34m=\u001b[0m \u001b[0;34m'D->D'\u001b[0m \u001b[0;32mif\u001b[0m \u001b[0misComplexType\u001b[0m\u001b[0;34m(\u001b[0m\u001b[0mt\u001b[0m\u001b[0;34m)\u001b[0m \u001b[0;32melse\u001b[0m \u001b[0;34m'd->d'\u001b[0m\u001b[0;34m\u001b[0m\u001b[0m\n\u001b[1;32m    512\u001b[0m     \u001b[0mextobj\u001b[0m \u001b[0;34m=\u001b[0m \u001b[0mget_linalg_error_extobj\u001b[0m\u001b[0;34m(\u001b[0m\u001b[0m_raise_linalgerror_singular\u001b[0m\u001b[0;34m)\u001b[0m\u001b[0;34m\u001b[0m\u001b[0m\n\u001b[0;32m--> 513\u001b[0;31m     \u001b[0mainv\u001b[0m \u001b[0;34m=\u001b[0m \u001b[0m_umath_linalg\u001b[0m\u001b[0;34m.\u001b[0m\u001b[0minv\u001b[0m\u001b[0;34m(\u001b[0m\u001b[0ma\u001b[0m\u001b[0;34m,\u001b[0m \u001b[0msignature\u001b[0m\u001b[0;34m=\u001b[0m\u001b[0msignature\u001b[0m\u001b[0;34m,\u001b[0m \u001b[0mextobj\u001b[0m\u001b[0;34m=\u001b[0m\u001b[0mextobj\u001b[0m\u001b[0;34m)\u001b[0m\u001b[0;34m\u001b[0m\u001b[0m\n\u001b[0m\u001b[1;32m    514\u001b[0m     \u001b[0;32mreturn\u001b[0m \u001b[0mwrap\u001b[0m\u001b[0;34m(\u001b[0m\u001b[0mainv\u001b[0m\u001b[0;34m.\u001b[0m\u001b[0mastype\u001b[0m\u001b[0;34m(\u001b[0m\u001b[0mresult_t\u001b[0m\u001b[0;34m,\u001b[0m \u001b[0mcopy\u001b[0m\u001b[0;34m=\u001b[0m\u001b[0;32mFalse\u001b[0m\u001b[0;34m)\u001b[0m\u001b[0;34m)\u001b[0m\u001b[0;34m\u001b[0m\u001b[0m\n\u001b[1;32m    515\u001b[0m \u001b[0;34m\u001b[0m\u001b[0m\n",
      "\u001b[0;32m~/anaconda3/envs/reinforcement_learning/lib/python3.6/site-packages/numpy/linalg/linalg.py\u001b[0m in \u001b[0;36m_raise_linalgerror_singular\u001b[0;34m(err, flag)\u001b[0m\n\u001b[1;32m     88\u001b[0m \u001b[0;34m\u001b[0m\u001b[0m\n\u001b[1;32m     89\u001b[0m \u001b[0;32mdef\u001b[0m \u001b[0m_raise_linalgerror_singular\u001b[0m\u001b[0;34m(\u001b[0m\u001b[0merr\u001b[0m\u001b[0;34m,\u001b[0m \u001b[0mflag\u001b[0m\u001b[0;34m)\u001b[0m\u001b[0;34m:\u001b[0m\u001b[0;34m\u001b[0m\u001b[0m\n\u001b[0;32m---> 90\u001b[0;31m     \u001b[0;32mraise\u001b[0m \u001b[0mLinAlgError\u001b[0m\u001b[0;34m(\u001b[0m\u001b[0;34m\"Singular matrix\"\u001b[0m\u001b[0;34m)\u001b[0m\u001b[0;34m\u001b[0m\u001b[0m\n\u001b[0m\u001b[1;32m     91\u001b[0m \u001b[0;34m\u001b[0m\u001b[0m\n\u001b[1;32m     92\u001b[0m \u001b[0;32mdef\u001b[0m \u001b[0m_raise_linalgerror_nonposdef\u001b[0m\u001b[0;34m(\u001b[0m\u001b[0merr\u001b[0m\u001b[0;34m,\u001b[0m \u001b[0mflag\u001b[0m\u001b[0;34m)\u001b[0m\u001b[0;34m:\u001b[0m\u001b[0;34m\u001b[0m\u001b[0m\n",
      "\u001b[0;31mLinAlgError\u001b[0m: Singular matrix"
     ]
    }
   ],
   "source": [
    "N = 1000 # Number of samples for the histogram of the discounted rewards\n",
    "K = 1000 # Number of samples for the Monte-Carlo estimation of each discounted reward\n",
    "k = 4\n",
    "n = 2 * 10**k\n",
    "beta = np.exp(-0.0004)\n",
    "h_hat = np.zeros(N)\n",
    "for i in timeprint(N):\n",
    "    # We sample a theta\n",
    "    algo = Zap_Qlearning(n)\n",
    "    algo.fit()\n",
    "    # We estimate the discounted reward for this theta with Monte-Carlo estimation\n",
    "    for _ in np.arange(K):\n",
    "        # We sample the optimal stopping time and the value of the state process at that time\n",
    "        tau, X_tau = sample_stopping_state(algo.theta[:,n-1])\n",
    "        h_hat[i] = h_hat[i] + np.power(beta,tau)*X_tau[99]\n",
    "    h_hat[i] = h_hat[i] / K"
   ]
  },
  {
   "cell_type": "code",
   "execution_count": 32,
   "metadata": {
    "collapsed": false
   },
   "outputs": [
    {
     "data": {
      "image/png": "[encoded data removed]",
      "text/plain": [
       "<matplotlib.figure.Figure at 0x7f56ec2eea20>"
      ]
     },
     "metadata": {},
     "output_type": "display_data"
    }
   ],
   "source": [
    "plt.hist(h_hat);"
   ]
  },
  {
   "cell_type": "markdown",
   "metadata": {},
   "source": [
    "### Theta trace"
   ]
  },
  {
   "cell_type": "code",
   "execution_count": 22,
   "metadata": {
    "collapsed": false
   },
   "outputs": [
    {
     "data": {
      "image/png": "[encoded data removed]",
      "text/plain": [
       "<matplotlib.figure.Figure at 0x7f56ec7fd438>"
      ]
     },
     "metadata": {},
     "output_type": "display_data"
    }
   ],
   "source": [
    "k = 4\n",
    "n = 2 * 10**k\n",
    "algo = Zap_Qlearning(n)\n",
    "\n",
    "algo.fit()\n",
    "\n",
    "fig, ax = plt.subplots(1,1,figsize=(15,5))\n",
    "for i in range(10):\n",
    "    ax.plot(algo.theta[i,:],label=\"theta({})\".format(i))\n",
    "ax.set_yscale('symlog')\n",
    "ax.legend(loc='best');"
   ]
  },
  {
   "cell_type": "markdown",
   "metadata": {},
   "source": [
    "### CLT"
   ]
  },
  {
   "cell_type": "code",
   "execution_count": 48,
   "metadata": {
    "collapsed": true
   },
   "outputs": [],
   "source": [
    "import sys\n",
    "import time"
   ]
  },
  {
   "cell_type": "code",
   "execution_count": 51,
   "metadata": {
    "collapsed": false
   },
   "outputs": [
    {
     "name": "stdout",
     "output_type": "stream",
     "text": [
      "Step 6/100 done in 3.1009sec, ETA: 300.2266sec   \r"
     ]
    },
    {
     "ename": "LinAlgError",
     "evalue": "Singular matrix",
     "output_type": "error",
     "traceback": [
      "\u001b[0;31m---------------------------------------------------------------------------\u001b[0m",
      "\u001b[0;31mLinAlgError\u001b[0m                               Traceback (most recent call last)",
      "\u001b[0;32m<ipython-input-51-6469b168d8b9>\u001b[0m in \u001b[0;36m<module>\u001b[0;34m()\u001b[0m\n\u001b[1;32m      5\u001b[0m \u001b[0;32mfor\u001b[0m \u001b[0mi\u001b[0m \u001b[0;32min\u001b[0m \u001b[0mtimeprint\u001b[0m\u001b[0;34m(\u001b[0m\u001b[0mN\u001b[0m\u001b[0;34m)\u001b[0m\u001b[0;34m:\u001b[0m\u001b[0;34m\u001b[0m\u001b[0m\n\u001b[1;32m      6\u001b[0m     \u001b[0malgo\u001b[0m \u001b[0;34m=\u001b[0m \u001b[0mZap_Qlearning\u001b[0m\u001b[0;34m(\u001b[0m\u001b[0mn\u001b[0m\u001b[0;34m)\u001b[0m\u001b[0;34m\u001b[0m\u001b[0m\n\u001b[0;32m----> 7\u001b[0;31m     \u001b[0malgo\u001b[0m\u001b[0;34m.\u001b[0m\u001b[0mfit\u001b[0m\u001b[0;34m(\u001b[0m\u001b[0;34m)\u001b[0m\u001b[0;34m\u001b[0m\u001b[0m\n\u001b[0m\u001b[1;32m      8\u001b[0m     \u001b[0mtheta_list\u001b[0m\u001b[0;34m[\u001b[0m\u001b[0;34m:\u001b[0m\u001b[0;34m,\u001b[0m\u001b[0mi\u001b[0m\u001b[0;34m]\u001b[0m \u001b[0;34m=\u001b[0m \u001b[0malgo\u001b[0m\u001b[0;34m.\u001b[0m\u001b[0mtheta\u001b[0m\u001b[0;34m[\u001b[0m\u001b[0;34m:\u001b[0m\u001b[0;34m,\u001b[0m\u001b[0mn\u001b[0m\u001b[0;34m-\u001b[0m\u001b[0;36m1\u001b[0m\u001b[0;34m]\u001b[0m\u001b[0;34m.\u001b[0m\u001b[0mflatten\u001b[0m\u001b[0;34m(\u001b[0m\u001b[0;34m)\u001b[0m\u001b[0;34m\u001b[0m\u001b[0m\n\u001b[1;32m      9\u001b[0m     \u001b[0;31m#sys.stdout.write(\"step: {0}/{1} done  \\s\".format(i+1,N))\u001b[0m\u001b[0;34m\u001b[0m\u001b[0;34m\u001b[0m\u001b[0m\n",
      "\u001b[0;32m<ipython-input-30-2d04c46a769c>\u001b[0m in \u001b[0;36mfit\u001b[0;34m(self)\u001b[0m\n\u001b[1;32m     36\u001b[0m     \u001b[0;32mdef\u001b[0m \u001b[0mfit\u001b[0m\u001b[0;34m(\u001b[0m\u001b[0mself\u001b[0m\u001b[0;34m)\u001b[0m\u001b[0;34m:\u001b[0m\u001b[0;34m\u001b[0m\u001b[0m\n\u001b[1;32m     37\u001b[0m         \u001b[0;32mfor\u001b[0m \u001b[0mi\u001b[0m \u001b[0;32min\u001b[0m \u001b[0mnp\u001b[0m\u001b[0;34m.\u001b[0m\u001b[0marange\u001b[0m\u001b[0;34m(\u001b[0m\u001b[0mself\u001b[0m\u001b[0;34m.\u001b[0m\u001b[0mnb_steps\u001b[0m\u001b[0;34m-\u001b[0m\u001b[0;36m1\u001b[0m\u001b[0;34m)\u001b[0m\u001b[0;34m:\u001b[0m\u001b[0;34m\u001b[0m\u001b[0m\n\u001b[0;32m---> 38\u001b[0;31m             \u001b[0mself\u001b[0m\u001b[0;34m.\u001b[0m\u001b[0mnext_step\u001b[0m\u001b[0;34m(\u001b[0m\u001b[0;34m)\u001b[0m\u001b[0;34m\u001b[0m\u001b[0m\n\u001b[0m",
      "\u001b[0;32m<ipython-input-30-2d04c46a769c>\u001b[0m in \u001b[0;36mnext_step\u001b[0;34m(self)\u001b[0m\n\u001b[1;32m     30\u001b[0m         \u001b[0mself\u001b[0m\u001b[0;34m.\u001b[0m\u001b[0mA_hat\u001b[0m \u001b[0;34m=\u001b[0m \u001b[0mself\u001b[0m\u001b[0;34m.\u001b[0m\u001b[0mA_hat\u001b[0m \u001b[0;34m+\u001b[0m \u001b[0mgamma\u001b[0m \u001b[0;34m*\u001b[0m \u001b[0;34m(\u001b[0m\u001b[0mself\u001b[0m\u001b[0;34m.\u001b[0m\u001b[0mA\u001b[0m \u001b[0;34m-\u001b[0m \u001b[0mself\u001b[0m\u001b[0;34m.\u001b[0m\u001b[0mA_hat\u001b[0m\u001b[0;34m)\u001b[0m\u001b[0;34m\u001b[0m\u001b[0m\n\u001b[1;32m     31\u001b[0m \u001b[0;34m\u001b[0m\u001b[0m\n\u001b[0;32m---> 32\u001b[0;31m         \u001b[0mself\u001b[0m\u001b[0;34m.\u001b[0m\u001b[0mtheta\u001b[0m\u001b[0;34m[\u001b[0m\u001b[0;34m:\u001b[0m\u001b[0;34m,\u001b[0m\u001b[0;34m[\u001b[0m\u001b[0mself\u001b[0m\u001b[0;34m.\u001b[0m\u001b[0mn\u001b[0m\u001b[0;34m+\u001b[0m\u001b[0;36m1\u001b[0m\u001b[0;34m]\u001b[0m\u001b[0;34m]\u001b[0m \u001b[0;34m=\u001b[0m \u001b[0mself\u001b[0m\u001b[0;34m.\u001b[0m\u001b[0mtheta\u001b[0m\u001b[0;34m[\u001b[0m\u001b[0;34m:\u001b[0m\u001b[0;34m,\u001b[0m\u001b[0;34m[\u001b[0m\u001b[0mself\u001b[0m\u001b[0;34m.\u001b[0m\u001b[0mn\u001b[0m\u001b[0;34m]\u001b[0m\u001b[0;34m]\u001b[0m \u001b[0;34m-\u001b[0m \u001b[0malpha\u001b[0m \u001b[0;34m*\u001b[0m \u001b[0mnp\u001b[0m\u001b[0;34m.\u001b[0m\u001b[0mdot\u001b[0m\u001b[0;34m(\u001b[0m\u001b[0mnp\u001b[0m\u001b[0;34m.\u001b[0m\u001b[0mlinalg\u001b[0m\u001b[0;34m.\u001b[0m\u001b[0minv\u001b[0m\u001b[0;34m(\u001b[0m\u001b[0mself\u001b[0m\u001b[0;34m.\u001b[0m\u001b[0mA_hat\u001b[0m\u001b[0;34m)\u001b[0m\u001b[0;34m,\u001b[0m\u001b[0mpsi_current\u001b[0m\u001b[0;34m)\u001b[0m\u001b[0;34m*\u001b[0m\u001b[0;34m(\u001b[0m\u001b[0mself\u001b[0m\u001b[0;34m.\u001b[0m\u001b[0mbeta\u001b[0m\u001b[0;34m*\u001b[0m\u001b[0mnp\u001b[0m\u001b[0;34m.\u001b[0m\u001b[0mmaximum\u001b[0m\u001b[0;34m(\u001b[0m\u001b[0mreward\u001b[0m\u001b[0;34m,\u001b[0m\u001b[0mQ_X_next\u001b[0m\u001b[0;34m)\u001b[0m\u001b[0;34m-\u001b[0m\u001b[0mQ_X_current\u001b[0m\u001b[0;34m)\u001b[0m\u001b[0;34m\u001b[0m\u001b[0m\n\u001b[0m\u001b[1;32m     33\u001b[0m \u001b[0;34m\u001b[0m\u001b[0m\n\u001b[1;32m     34\u001b[0m         \u001b[0mself\u001b[0m\u001b[0;34m.\u001b[0m\u001b[0mn\u001b[0m \u001b[0;34m=\u001b[0m \u001b[0mself\u001b[0m\u001b[0;34m.\u001b[0m\u001b[0mn\u001b[0m \u001b[0;34m+\u001b[0m \u001b[0;36m1\u001b[0m\u001b[0;34m\u001b[0m\u001b[0m\n",
      "\u001b[0;32m~/anaconda3/envs/reinforcement_learning/lib/python3.6/site-packages/numpy/linalg/linalg.py\u001b[0m in \u001b[0;36minv\u001b[0;34m(a)\u001b[0m\n\u001b[1;32m    511\u001b[0m     \u001b[0msignature\u001b[0m \u001b[0;34m=\u001b[0m \u001b[0;34m'D->D'\u001b[0m \u001b[0;32mif\u001b[0m \u001b[0misComplexType\u001b[0m\u001b[0;34m(\u001b[0m\u001b[0mt\u001b[0m\u001b[0;34m)\u001b[0m \u001b[0;32melse\u001b[0m \u001b[0;34m'd->d'\u001b[0m\u001b[0;34m\u001b[0m\u001b[0m\n\u001b[1;32m    512\u001b[0m     \u001b[0mextobj\u001b[0m \u001b[0;34m=\u001b[0m \u001b[0mget_linalg_error_extobj\u001b[0m\u001b[0;34m(\u001b[0m\u001b[0m_raise_linalgerror_singular\u001b[0m\u001b[0;34m)\u001b[0m\u001b[0;34m\u001b[0m\u001b[0m\n\u001b[0;32m--> 513\u001b[0;31m     \u001b[0mainv\u001b[0m \u001b[0;34m=\u001b[0m \u001b[0m_umath_linalg\u001b[0m\u001b[0;34m.\u001b[0m\u001b[0minv\u001b[0m\u001b[0;34m(\u001b[0m\u001b[0ma\u001b[0m\u001b[0;34m,\u001b[0m \u001b[0msignature\u001b[0m\u001b[0;34m=\u001b[0m\u001b[0msignature\u001b[0m\u001b[0;34m,\u001b[0m \u001b[0mextobj\u001b[0m\u001b[0;34m=\u001b[0m\u001b[0mextobj\u001b[0m\u001b[0;34m)\u001b[0m\u001b[0;34m\u001b[0m\u001b[0m\n\u001b[0m\u001b[1;32m    514\u001b[0m     \u001b[0;32mreturn\u001b[0m \u001b[0mwrap\u001b[0m\u001b[0;34m(\u001b[0m\u001b[0mainv\u001b[0m\u001b[0;34m.\u001b[0m\u001b[0mastype\u001b[0m\u001b[0;34m(\u001b[0m\u001b[0mresult_t\u001b[0m\u001b[0;34m,\u001b[0m \u001b[0mcopy\u001b[0m\u001b[0;34m=\u001b[0m\u001b[0;32mFalse\u001b[0m\u001b[0;34m)\u001b[0m\u001b[0;34m)\u001b[0m\u001b[0;34m\u001b[0m\u001b[0m\n\u001b[1;32m    515\u001b[0m \u001b[0;34m\u001b[0m\u001b[0m\n",
      "\u001b[0;32m~/anaconda3/envs/reinforcement_learning/lib/python3.6/site-packages/numpy/linalg/linalg.py\u001b[0m in \u001b[0;36m_raise_linalgerror_singular\u001b[0;34m(err, flag)\u001b[0m\n\u001b[1;32m     88\u001b[0m \u001b[0;34m\u001b[0m\u001b[0m\n\u001b[1;32m     89\u001b[0m \u001b[0;32mdef\u001b[0m \u001b[0m_raise_linalgerror_singular\u001b[0m\u001b[0;34m(\u001b[0m\u001b[0merr\u001b[0m\u001b[0;34m,\u001b[0m \u001b[0mflag\u001b[0m\u001b[0;34m)\u001b[0m\u001b[0;34m:\u001b[0m\u001b[0;34m\u001b[0m\u001b[0m\n\u001b[0;32m---> 90\u001b[0;31m     \u001b[0;32mraise\u001b[0m \u001b[0mLinAlgError\u001b[0m\u001b[0;34m(\u001b[0m\u001b[0;34m\"Singular matrix\"\u001b[0m\u001b[0;34m)\u001b[0m\u001b[0;34m\u001b[0m\u001b[0m\n\u001b[0m\u001b[1;32m     91\u001b[0m \u001b[0;34m\u001b[0m\u001b[0m\n\u001b[1;32m     92\u001b[0m \u001b[0;32mdef\u001b[0m \u001b[0m_raise_linalgerror_nonposdef\u001b[0m\u001b[0;34m(\u001b[0m\u001b[0merr\u001b[0m\u001b[0;34m,\u001b[0m \u001b[0mflag\u001b[0m\u001b[0;34m)\u001b[0m\u001b[0;34m:\u001b[0m\u001b[0;34m\u001b[0m\u001b[0m\n",
      "\u001b[0;31mLinAlgError\u001b[0m: Singular matrix"
     ]
    }
   ],
   "source": [
    "k = 4\n",
    "n = 2 * 10**k\n",
    "N = 100\n",
    "theta_list = np.zeros((10,N),dtype=np.double)\n",
    "for i in timeprint(N):\n",
    "    algo = Zap_Qlearning(n)\n",
    "    algo.fit()\n",
    "    theta_list[:,i] = algo.theta[:,n-1].flatten()\n",
    "    #sys.stdout.write(\"step: {0}/{1} done  \\s\".format(i+1,N))\n",
    "    #sys.stdout.flush()\n",
    "theta_bar = theta_list.mean(axis=0)\n",
    "W = np.sqrt(n)*(theta_list - theta_bar)"
   ]
  },
  {
   "cell_type": "code",
   "execution_count": 57,
   "metadata": {
    "collapsed": false
   },
   "outputs": [
    {
     "data": {
      "image/png": "[encoded data removed]",
      "text/plain": [
       "<matplotlib.figure.Figure at 0x7fc6d733e898>"
      ]
     },
     "metadata": {},
     "output_type": "display_data"
    }
   ],
   "source": [
    "plt.hist(W[6,:]);"
   ]
  },
  {
   "cell_type": "code",
   "execution_count": 58,
   "metadata": {
    "collapsed": false
   },
   "outputs": [
    {
     "data": {
      "text/plain": [
       "array([ -4.24521743e+12,   4.32939572e+17,   2.72080705e+04,\n",
       "        -1.43164459e+16,   2.10032457e+06,  -2.82117931e+04,\n",
       "         4.11258566e+04,   3.20609177e+12,  -1.90668094e+14,\n",
       "         8.50851591e+05])"
      ]
     },
     "execution_count": 58,
     "metadata": {},
     "output_type": "execute_result"
    }
   ],
   "source": [
    "W[6,:]"
   ]
  },
  {
   "cell_type": "markdown",
   "metadata": {},
   "source": [
    "### A eigenvalues"
   ]
  },
  {
   "cell_type": "code",
   "execution_count": 103,
   "metadata": {
    "collapsed": false
   },
   "outputs": [
    {
     "name": "stdout",
     "output_type": "stream",
     "text": [
      "2.3233020305633545\n"
     ]
    }
   ],
   "source": [
    "n = 2*10**6\n",
    "start = time.time()\n",
    "X = sample_last_states(n,1.,1.)\n",
    "print(time.time()-start)"
   ]
  },
  {
   "cell_type": "code",
   "execution_count": 115,
   "metadata": {
    "collapsed": false
   },
   "outputs": [
    {
     "name": "stdout",
     "output_type": "stream",
     "text": [
      "0.146256685256958\n"
     ]
    }
   ],
   "source": [
    "n = 2*10**6\n",
    "start = time.time()\n",
    "X = sample_last_states_direct(n,1.,1.)\n",
    "print(time.time()-start)"
   ]
  },
  {
   "cell_type": "code",
   "execution_count": 126,
   "metadata": {
    "collapsed": false
   },
   "outputs": [
    {
     "name": "stdout",
     "output_type": "stream",
     "text": [
      "Step 1000/1000 done in 0.1219sec, ETA: 0.2437sec    \n",
      "0.1219sec avg, 121.8569sec total\n",
      "\n"
     ]
    }
   ],
   "source": [
    "n = 2*10**6\n",
    "N = 1000\n",
    "beta = 0.8\n",
    "algo = Zap_Qlearning(n)\n",
    "algo.fit()\n",
    "theta = algo.theta\n",
    "A = np.zeros((10,10))\n",
    "for i in timeprint(N):\n",
    "    X = sample_last_states_direct(n+1,1.,1.)\n",
    "    psi_current = np.array([phi_i(X[:,0].T) for phi_i in phi]).reshape(10,1)\n",
    "    psi_next = np.array([phi_i(X[:,1].T) for phi_i in phi]).reshape(10,1)\n",
    "    reward = X[99,1]\n",
    "    Q_X_next = np.dot(theta.T,psi_next)\n",
    "    varphi = beta * psi_next - psi_current if Q_X_next >= reward else -psi_current    \n",
    "    A = A + np.dot(psi_current,varphi.T)\n",
    "    \n",
    "A = A / N"
   ]
  },
  {
   "cell_type": "code",
   "execution_count": 129,
   "metadata": {
    "collapsed": false
   },
   "outputs": [],
   "source": [
    "eigval, eigvec = np.linalg.eig(A)"
   ]
  },
  {
   "cell_type": "code",
   "execution_count": 135,
   "metadata": {
    "collapsed": false
   },
   "outputs": [
    {
     "data": {
      "text/plain": [
       "array([ -2.89459512e+00,  -6.20486248e-01,  -6.77832604e-02,\n",
       "        -1.53144633e-02,  -2.97782552e-03,  -1.60267384e-03,\n",
       "        -3.28433884e-04,  -2.45647695e-04,  -3.59236222e-05,\n",
       "        -6.52740101e-05])"
      ]
     },
     "execution_count": 135,
     "metadata": {},
     "output_type": "execute_result"
    }
   ],
   "source": [
    "eigval"
   ]
  },
  {
   "cell_type": "code",
   "execution_count": 134,
   "metadata": {
    "collapsed": false
   },
   "outputs": [
    {
     "data": {
      "image/png": "[encoded data removed]",
      "text/plain": [
       "<matplotlib.figure.Figure at 0x7fc6d6bcddd8>"
      ]
     },
     "metadata": {},
     "output_type": "display_data"
    }
   ],
   "source": [
    "fig, ax = plt.subplots(1,1)\n",
    "ax.plot(eigval)\n",
    "ax.set_yscale('symlog')\n",
    "plt.gca().invert_yaxis();"
   ]
  }
 ],
 "metadata": {
  "kernelspec": {
   "display_name": "Python (RL)",
   "language": "python",
   "name": "reinforcement_learning"
  },
  "language_info": {
   "codemirror_mode": {
    "name": "ipython",
    "version": 3
   },
   "file_extension": ".py",
   "mimetype": "text/x-python",
   "name": "python",
   "nbconvert_exporter": "python",
   "pygments_lexer": "ipython3",
   "version": "3.6.2"
  }
 },
 "nbformat": 4,
 "nbformat_minor": 2
}
